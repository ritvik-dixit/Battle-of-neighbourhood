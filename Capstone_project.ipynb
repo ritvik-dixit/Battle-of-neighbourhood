{
    "nbformat_minor": 1, 
    "cells": [
        {
            "source": "# Coursera Capstone Project (Applied Data Science Capstone)\n**<font size = 4>Requirements of this assignemnts are:</font>**\n1. A link to the capstone project Jupyter Notebook on the student's Github account is submitted.\n* Markdown cells were added to introduce the Notebook\n* The pandas library was imported.\n* The Numpy library was imported.\n* A print statement with the argument \"Hello Capstone Project Course\" was included. ", 
            "cell_type": "markdown", 
            "metadata": {}
        }, 
        {
            "source": "* __Importing required libraries__", 
            "cell_type": "markdown", 
            "metadata": {}
        }, 
        {
            "execution_count": 1, 
            "cell_type": "code", 
            "metadata": {}, 
            "outputs": [], 
            "source": "import pandas as pd\nimport numpy as np"
        }, 
        {
            "source": "* __Printing the \"Hello Capstone Project Course!\"__", 
            "cell_type": "markdown", 
            "metadata": {}
        }, 
        {
            "execution_count": 2, 
            "cell_type": "code", 
            "metadata": {}, 
            "outputs": [
                {
                    "output_type": "stream", 
                    "name": "stdout", 
                    "text": "Hello Capstone Project Course!\n"
                }
            ], 
            "source": "print('Hello Capstone Project Course!')"
        }, 
        {
            "execution_count": null, 
            "cell_type": "code", 
            "metadata": {}, 
            "outputs": [], 
            "source": ""
        }
    ], 
    "metadata": {
        "kernelspec": {
            "display_name": "Python 3.5", 
            "name": "python3", 
            "language": "python"
        }, 
        "language_info": {
            "mimetype": "text/x-python", 
            "nbconvert_exporter": "python", 
            "version": "3.5.5", 
            "name": "python", 
            "file_extension": ".py", 
            "pygments_lexer": "ipython3", 
            "codemirror_mode": {
                "version": 3, 
                "name": "ipython"
            }
        }
    }, 
    "nbformat": 4
}